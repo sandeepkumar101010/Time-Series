{
 "cells": [
  {
   "cell_type": "markdown",
   "id": "aa162ba9",
   "metadata": {},
   "source": [
    "#### IF we want to import data from database (from IN_PART_R)\n",
    "import pandas as pd\n",
    "import matplotlib as mpl\n",
    "import matplotlib.pyplot as plt\n",
    "#Importing Libraries and estalbishing connectuon to database\n",
    "import pandas as pd\n",
    "import numpy as np\n",
    "import cx_Oracle as cxo\n",
    "import sqldf\n",
    "from scipy.stats import t\n",
    "from scipy import stats\n",
    "conn = cxo.connect(\"GIS_IN\",\"GIS_IN\", \"172.29.10.10:1521/GISIN\")\n",
    "print(conn.version)\n",
    "\n",
    "#this is the forecasted dataset\n",
    "df = pd.read_sql(\"select * from IN_PART_R where company_code='95004-KR1' order by 1,2\", con=conn)"
   ]
  },
  {
   "cell_type": "code",
   "execution_count": 1,
   "id": "d83ac6fa",
   "metadata": {
    "scrolled": true
   },
   "outputs": [
    {
     "name": "stdout",
     "output_type": "stream",
     "text": [
      "12.1.0.2.0\n",
      "\n",
      "START TIME :  09:10:07.733004 \n",
      "\n"
     ]
    },
    {
     "name": "stderr",
     "output_type": "stream",
     "text": [
      "\r",
      "  0%|                                                                                           | 0/50 [00:00<?, ?it/s]"
     ]
    },
    {
     "name": "stdout",
     "output_type": "stream",
     "text": [
      "0\n",
      "learning rate from ``lr_scheduler`` has been overwritten by ``learning_rate`` in optimizer.\n"
     ]
    },
    {
     "name": "stderr",
     "output_type": "stream",
     "text": [
      "100%|█████████████████████████████████████████████████| 50/50 [00:05<00:00,  8.44it/s, epoch=1/10, avg_epoch_loss=4.79]\n",
      "100%|█████████████████████████████████████████████████| 50/50 [00:05<00:00,  8.73it/s, epoch=2/10, avg_epoch_loss=4.02]\n",
      "100%|█████████████████████████████████████████████████| 50/50 [00:05<00:00,  8.87it/s, epoch=3/10, avg_epoch_loss=3.64]\n",
      "100%|█████████████████████████████████████████████████| 50/50 [00:05<00:00,  8.65it/s, epoch=4/10, avg_epoch_loss=3.46]\n",
      "100%|█████████████████████████████████████████████████| 50/50 [00:05<00:00,  8.53it/s, epoch=5/10, avg_epoch_loss=3.34]\n",
      "100%|█████████████████████████████████████████████████| 50/50 [00:05<00:00,  8.44it/s, epoch=6/10, avg_epoch_loss=3.19]\n",
      "100%|█████████████████████████████████████████████████| 50/50 [00:05<00:00,  8.59it/s, epoch=7/10, avg_epoch_loss=3.02]\n",
      "100%|█████████████████████████████████████████████████| 50/50 [00:05<00:00,  8.47it/s, epoch=8/10, avg_epoch_loss=2.93]\n",
      "100%|█████████████████████████████████████████████████| 50/50 [00:05<00:00,  9.23it/s, epoch=9/10, avg_epoch_loss=2.76]\n",
      "100%|████████████████████████████████████████████████| 50/50 [00:05<00:00,  8.58it/s, epoch=10/10, avg_epoch_loss=2.63]\n"
     ]
    },
    {
     "name": "stdout",
     "output_type": "stream",
     "text": [
      "\n",
      "\n",
      "END TIME :  09:11:34.083977\n",
      "\n",
      "TOTAL SCRIPT RUNTIME :  0:01:26.350973\n"
     ]
    }
   ],
   "source": [
    "import pandas as pd\n",
    "import matplotlib as mpl\n",
    "import matplotlib.pyplot as plt\n",
    "#Importing Libraries and estalbishing connectuon to database\n",
    "import pandas as pd\n",
    "import numpy as np\n",
    "import cx_Oracle as cxo\n",
    "import sqldf\n",
    "from scipy.stats import t\n",
    "from datetime import datetime as dt\n",
    "from scipy import stats\n",
    "conn = cxo.connect(\"GIS_IN\",\"GIS_IN\", \"172.29.10.10:1521/GISIN\")\n",
    "print(conn.version)\n",
    "\n",
    "start_time = dt.today()\n",
    "print('\\nSTART TIME : ', start_time.time(),'\\n')\n",
    "\n",
    "df2 = pd.read_sql(\"select * from IN_PART_R where company_code='95004-KR1' and PART_NO = '25A-AR40-04-B' order by 1,2\", con=conn)\n",
    "df2 = df2[['PERIOD','PART_NO','QTY']]\n",
    "\n",
    "#Filling the NaN values through K-Nearest Neighbors algorithm\n",
    "from sklearn.impute import KNNImputer\n",
    "imputer = KNNImputer(n_neighbors = 4, weights = \"uniform\")\n",
    "df2['QTY'] = imputer.fit_transform(df2[['QTY']])\n",
    "\n",
    "df2['PERIOD'] = pd.to_datetime(df2['PERIOD'], format= '%Y%m')\n",
    "\n",
    "def DEEPAR(df):\n",
    "    from gluonts.dataset.common import ListDataset\n",
    "    from gluonts.model.deepar import DeepAREstimator\n",
    "    from gluonts.mx.trainer import Trainer\n",
    "    import numpy as np\n",
    "    from sklearn.impute import KNNImputer\n",
    "    PART_N = list(df['PART_NO'].unique())\n",
    "    a = pd.DataFrame()\n",
    "    for i in range(0,len(PART_N)):\n",
    "        print(i)\n",
    "        data = df[df['PART_NO'] == PART_N[i]]\n",
    "        #data['PERIOD'] = pd.to_datetime(data['PERIOD'], format= '%Y%m')\n",
    "        data = data[['PERIOD','QTY']]\n",
    "        data = data[:24]\n",
    "        imputer = KNNImputer(n_neighbors = 4, weights = \"uniform\")\n",
    "        data['QTY'] = imputer.fit_transform(data[['QTY']])\n",
    "        data.set_index('PERIOD',inplace= True)\n",
    "        estimator = DeepAREstimator(freq = 'M',\n",
    "                                    prediction_length = 12,\n",
    "                                    num_layers = 2,\n",
    "                                    num_cells = 50,\n",
    "                                    cell_type = 'lstm',\n",
    "                                    trainer = Trainer(epochs = 10))\n",
    "        training_data = ListDataset(\n",
    "                                [{\"start\": data.index[0], \"target\" : data.QTY}],freq = 'M')\n",
    "        predictor = estimator.train(training_data = training_data)\n",
    "        prediction = next(predictor.predict(training_data))\n",
    "        forecast = list(prediction.mean)\n",
    "        df_new = pd.DataFrame()\n",
    "        df_new['QTY'] = forecast\n",
    "        df_new['PERIOD'] = prediction.index\n",
    "        df_new['PART_NO'] = PART_N[i]\n",
    "        df_new = df_new[['PERIOD','PART_NO','QTY']] \n",
    "        a = pd.concat([a,df_new])\n",
    "    return a\n",
    "\n",
    "\n",
    "\n",
    "output = DEEPAR(df2)\n",
    "\n",
    "  \n",
    "end_time = dt.today()\n",
    "print('\\n\\nEND TIME : ', end_time.time())\n",
    "print('\\nTOTAL SCRIPT RUNTIME : ', (end_time-start_time))"
   ]
  },
  {
   "cell_type": "code",
   "execution_count": 2,
   "id": "74106eaf",
   "metadata": {},
   "outputs": [
    {
     "name": "stdout",
     "output_type": "stream",
     "text": [
      "MAPE 0.5401322935292638\n",
      "MAE 18.857820935738392\n",
      "MSE 609.4207411441231\n"
     ]
    },
    {
     "name": "stderr",
     "output_type": "stream",
     "text": [
      "C:\\Anaconda\\lib\\site-packages\\ipykernel_launcher.py:7: SettingWithCopyWarning: \n",
      "A value is trying to be set on a copy of a slice from a DataFrame.\n",
      "Try using .loc[row_indexer,col_indexer] = value instead\n",
      "\n",
      "See the caveats in the documentation: https://pandas.pydata.org/pandas-docs/stable/user_guide/indexing.html#returning-a-view-versus-a-copy\n",
      "  import sys\n"
     ]
    },
    {
     "data": {
      "text/plain": [
       "[<matplotlib.lines.Line2D at 0x231bee97f48>]"
      ]
     },
     "execution_count": 2,
     "metadata": {},
     "output_type": "execute_result"
    },
    {
     "data": {
      "image/png": "[encoded data removed]",
      "text/plain": [
       "<Figure size 432x288 with 1 Axes>"
      ]
     },
     "metadata": {
      "needs_background": "light"
     },
     "output_type": "display_data"
    }
   ],
   "source": [
    "from sklearn.metrics import mean_absolute_percentage_error\n",
    "import sklearn.metrics as metrics\n",
    "\n",
    "\n",
    "Predicted = output[['PERIOD','QTY']]\n",
    "Predicted.set_index('PERIOD',inplace = True)\n",
    "Predicted['QTY'] = abs(Predicted['QTY'])\n",
    "Actual = df2[['PERIOD','QTY']].iloc[24:]\n",
    "Actual.set_index('PERIOD',inplace = True)\n",
    "\n",
    "MAPE = mean_absolute_percentage_error(Actual.QTY, Predicted.QTY)\n",
    "mae = metrics.mean_absolute_error(Actual.QTY, Predicted.QTY)\n",
    "mse = metrics.mean_squared_error(Actual.QTY, Predicted.QTY)\n",
    "\n",
    "print('MAPE',MAPE)\n",
    "print('MAE',mae)\n",
    "print('MSE',mse)\n",
    "\n",
    "import matplotlib.pyplot as plt\n",
    "%matplotlib inline\n",
    "plt.plot(Predicted,marker = 'o',color = 'red')\n",
    "plt.plot(Actual,marker = 'o',color = 'blue')"
   ]
  },
  {
   "cell_type": "code",
   "execution_count": 19,
   "id": "ed18ff54",
   "metadata": {},
   "outputs": [],
   "source": []
  },
  {
   "cell_type": "code",
   "execution_count": null,
   "id": "e11fa414",
   "metadata": {},
   "outputs": [],
   "source": [
    "#### IF WE WANT TO RUN GLUONTS FOR ALL PARTS IN LOOPS we can use below code"
   ]
  },
  {
   "cell_type": "code",
   "execution_count": null,
   "id": "a3e6dcf9",
   "metadata": {},
   "outputs": [],
   "source": [
    "def DEEPAR(df):\n",
    "    from gluonts.dataset.common import ListDataset\n",
    "    from gluonts.model.deepar import DeepAREstimator\n",
    "    from gluonts.mx.trainer import Trainer\n",
    "    import numpy as np\n",
    "    import rpy2.robjects as robjects\n",
    "    # import R packages\n",
    "    from rpy2.robjects.packages import importr\n",
    "    PART_N = list(df['PART_NO'].unique())\n",
    "    a = pd.DataFrame()\n",
    "    imputeTS = importr('imputeTS') \n",
    "    kalman_StructTs = robjects.r['na.kalman']\n",
    "    kalman_auto_arima = robjects.r['na.kalman']\n",
    "    for i in range(0,len(PART_N)):\n",
    "        print(i)\n",
    "        data = df[df['PART_NO'] == PART_N[i]]\n",
    "        data['PERIOD'] = pd.to_datetime(data['PERIOD'], format= '%Y%m')\n",
    "        data = data[['PERIOD','QTY']]\n",
    "        this_value = np.ndarray.tolist(data['QTY'].values)\n",
    "        this_value = robjects.FloatVector(this_value)\n",
    "        data['QTY'] = kalman_StructTs(this_value, model = \"StructTS\")\n",
    "        data.set_index('PERIOD',inplace= True)\n",
    "        estimator = DeepAREstimator(freq = 'M',\n",
    "                                    prediction_length = 12,\n",
    "                                    num_layers = 2,\n",
    "                                    num_cells = 128,\n",
    "                                    cell_type = 'lstm',\n",
    "                                    trainer = Trainer(epochs = 20))\n",
    "        training_data = ListDataset(\n",
    "                                [{\"start\": data.index[0], \"target\" : data.QTY}],freq = 'M')\n",
    "        predictor = estimator.train(training_data = training_data)\n",
    "        prediction = next(predictor.predict(training_data))\n",
    "        forecast = list(prediction.mean)\n",
    "        df_new = pd.DataFrame()\n",
    "        df_new['QTY'] = forecast\n",
    "        df_new['PERIOD'] = prediction.index\n",
    "        df_new['PART_NO'] = PART_N[i]\n",
    "        df_new = df_new[['PERIOD','PART_NO','QTY']] \n",
    "        a = pd.concat([a,df_new])\n",
    "    a.to_csv(r'C:/Users/SMC ANALYTICS 1/Desktop/SANDEEP/Time Sales Forecasting/GLUONTS_DEEPAR_B.csv', index = False)"
   ]
  }
 ],
 "metadata": {
  "kernelspec": {
   "display_name": "Python 3",
   "language": "python",
   "name": "python3"
  },
  "language_info": {
   "codemirror_mode": {
    "name": "ipython",
    "version": 3
   },
   "file_extension": ".py",
   "mimetype": "text/x-python",
   "name": "python",
   "nbconvert_exporter": "python",
   "pygments_lexer": "ipython3",
   "version": "3.7.6"
  }
 },
 "nbformat": 4,
 "nbformat_minor": 5
}
